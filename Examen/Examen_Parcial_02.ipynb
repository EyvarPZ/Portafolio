{
  "cells": [
    {
      "cell_type": "markdown",
      "metadata": {
        "id": "view-in-github",
        "colab_type": "text"
      },
      "source": [
        "<a href=\"https://colab.research.google.com/github/EyvarPZ/Portafolio/blob/main/Examen/Examen_Parcial_02.ipynb\" target=\"_parent\"><img src=\"https://colab.research.google.com/assets/colab-badge.svg\" alt=\"Open In Colab\"/></a>"
      ]
    },
    {
      "cell_type": "markdown",
      "metadata": {
        "id": "uVP1tDtpH3hU"
      },
      "source": [
        "# <font color='navy'>**EXAMEN PARCIAL 02** </font>\n",
        "## <font color= 'navy'>**Inteligencia Artificial y Sistemas Expertos** </font>\n",
        "<font color='blue'> La entrega del cuaderno (mostrando todas las ejecuciones de celdas) se realiza en los repositorios privados de cada alumno, dentro de una carpeta que deberá llamarse **EXAMEN-PARCIAL-02**\n",
        "## <font color='purple'>**Manejo de bibliotecas para el diseño de una RNA como propuesta de solución a un problema de clasificación: Meet the Palmer penguins**</font>\n",
        "\n",
        "![PalmerPenguins](https://github.com/allisonhorst/palmerpenguins/raw/main/man/figures/lter_penguins.png)\n",
        "\n",
        "[PalmerPenguins](https://github.com/allisonhorst/palmerpenguins#meet-the-palmer-penguins)"
      ]
    },
    {
      "cell_type": "markdown",
      "metadata": {
        "id": "0RP0rvV4JxaT"
      },
      "source": [
        "## **<font color='orange'> Sobre los datos**\n",
        "\n",
        "[![DOI](https://zenodo.org/badge/DOI/10.5281/zenodo.3960218.svg)](https://doi.org/10.5281/zenodo.3960218)\n",
        "\n",
        "\n",
        "Los datos fueron recopilados y puestos a disposición por la Dra. Kristen Gorman y la Estación Palmer, Antártida LTER , miembro de la Red de Investigación Ecológica a Largo Plazo .\n",
        "\n",
        "La base de datos original contienen datos de 344 pingüinos. Hay 3 especies diferentes de pingüinos en el conjunto de datos, recopilados de 3 islas en el Archipiélago Palmer, Antártida.\n",
        "\n",
        "**Basecompleta == Observe las dimensiones ==**\n",
        "\n",
        "![Basecompleta == Observe las dimensiones ==](https://github.com/jambdeep/ApoyoExa/blob/main/EXAMEN800ICSal/base01.png?raw=true)\n",
        "\n",
        "Para estos datos de pingüinos, la longitud y la profundidad del culmen (pico) se miden como se muestra a continuación:\n",
        "\n",
        "![Medidas](https://github.com/jambdeep/ApoyoExa/blob/main/EXAMEN800ICSal/pico.png?raw=true)\n",
        "\n",
        "La versión de la base de datos aquí presentada se ha depurado (curado) para presentar solo aquellos que no tienen datos faltantes, por lo que el tamaño de la base original se ha reducido a solamente 333 casos.\n",
        "\n",
        "\n",
        "**Base reducida (limpia) == Observe las dimensiones ==**\n",
        "![Basereducida(limpia)](https://github.com/jambdeep/ApoyoExa/blob/main/EXAMEN800ICSal/base02.png?raw=true)\n",
        "\n",
        "[Descarga base reducida](https://github.com/jambdeep/ApoyoMaterias/blob/main/EXAMEN800ICSal/penguins.csv)\n",
        "\n",
        "A partir de la base de datos reducida, considerando solo las rasgos númericos como la longitud, profundidad del pico, longitud de la aleta y la masa corporal, **<font color='orange'> diseñe una RNA que permita la correcta clasificación de las especies (exactitud más alta)**,"
      ]
    },
    {
      "cell_type": "markdown",
      "metadata": {
        "id": "aTk4Dd0zbBHq"
      },
      "source": [
        "\n",
        "\n",
        "1. Cargar la base de datos en su cuaderno de jupyter mediante una ruta en su drive personal **(1 punto)**\n",
        "2. Construir la base de datos, **solamente** con los rasgos númericos indicados y las salidas deseadas. ***Nota: en su repositorio privado deberá guardar este archivo como evidencia de este paso. (2 puntos)**\n",
        "3. Realizar si se requiere el preprocesamiento a la base de datos (entradas y salidas) generada en el paso 2, para ser utilizada en la RNA MLP. **(1 punto)**   \n",
        "4. Proponer la mejor solución (exactitud más alta posible) con una RNA MLP, utilizando KERAS y las librerías vistas en clases. El alumno deberá elegir el mejor esquema de red MLP (capa de entrada, capa(s) oculta(s), capa de salida), los ajustes de entrenamiento y funciones de activación que mejor considere utilizando la base generada en el paso 3 y los porcentajes indicados para entrenamiento y prueba de la tabla adjunta. Se deberán utilizar al menos 100 épocas. **(3 puntos)**\n",
        "\n",
        "![Porcentajes](https://github.com/jambdeep/ApoyoMaterias/blob/main/EXAMEN800ICSal/IA2025.jpg?raw=true)\n",
        "\n",
        "\n",
        "5. Mostrar las gráficas de desempeño (Exactitud y Error) para la propuesta definitiva única elegida. **(2 puntos)**\n",
        "6. Explicar la complejidad de la red en términos de los paramétros que se adaptan al interior de la misma **(1 punto)**\n",
        "**Nota** Todo el procedimiento y pasos deberán estar incluidos en el cuaderno de Jupyter que se guarde en los repositorios privados antes de las 10:20hrs del día 13-03-2025, cualquier modificación posterior a esta fecha ANULA la calificación del examen y se asentará como 0 en la evaluación.\n"
      ]
    },
    {
      "cell_type": "markdown",
      "metadata": {
        "id": "fMXgQW-8n3qx"
      },
      "source": []
    }
  ],
  "metadata": {
    "colab": {
      "provenance": [],
      "gpuType": "T4",
      "include_colab_link": true
    },
    "kernelspec": {
      "display_name": "Python 3",
      "name": "python3"
    },
    "language_info": {
      "name": "python"
    },
    "accelerator": "GPU"
  },
  "nbformat": 4,
  "nbformat_minor": 0
}